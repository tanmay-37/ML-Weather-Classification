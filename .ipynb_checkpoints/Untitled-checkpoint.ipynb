{
 "cells": [
  {
   "cell_type": "markdown",
   "id": "3152862d-4bbc-41cb-ab36-923ba15c7ea5",
   "metadata": {},
   "source": [
    "## MINI Project\n",
    "\n",
    "## Choose dataset of choice\n",
    "## Apply varity of classification of aglorothm, including Logistic Regression, Naive byes, SVM, KNN, Decision Tree, Random Forest and adaboost\n",
    "## -Access this performance using classification Matrix\n",
    "## -Compare the performace of the entire classification algorithm"
   ]
  },
  {
   "cell_type": "code",
   "execution_count": null,
   "id": "6d7ec3ff-aa2f-4097-bceb-0491444c658a",
   "metadata": {},
   "outputs": [],
   "source": [
    "import pandas as pd\n",
    "import matplotlib.pyplot as plt\n",
    "import seaborn as sns\n",
    "import numpy as np\n",
    "import warnings"
   ]
  },
  {
   "cell_type": "code",
   "execution_count": null,
   "id": "085e60ba-152c-4d07-b236-b76e162172ce",
   "metadata": {},
   "outputs": [],
   "source": [
    "warnings.filterwarnings('ignore')"
   ]
  },
  {
   "cell_type": "code",
   "execution_count": null,
   "id": "614a742c-dd46-40f7-bc7e-5268414ced13",
   "metadata": {},
   "outputs": [],
   "source": [
    "df = pd.read_csv('weather_classification_data.csv')"
   ]
  },
  {
   "cell_type": "code",
   "execution_count": null,
   "id": "3db25ca8-5f06-437f-a8d8-e4e1afa8a1b5",
   "metadata": {},
   "outputs": [],
   "source": [
    "df.shape"
   ]
  },
  {
   "cell_type": "code",
   "execution_count": null,
   "id": "9d081d9a-3b86-40e4-b419-28f2a4e1d2ca",
   "metadata": {},
   "outputs": [],
   "source": [
    "df.head()"
   ]
  },
  {
   "cell_type": "code",
   "execution_count": null,
   "id": "0bde38c1-27da-4bc9-8aef-a19509964c0d",
   "metadata": {},
   "outputs": [],
   "source": [
    "df.info()"
   ]
  },
  {
   "cell_type": "code",
   "execution_count": null,
   "id": "481babfe-79ca-4070-9904-6f02f94a6204",
   "metadata": {},
   "outputs": [],
   "source": [
    "df.isnull().sum()"
   ]
  },
  {
   "cell_type": "code",
   "execution_count": null,
   "id": "6002848f-58d5-466a-b925-e46c17b0ee0e",
   "metadata": {},
   "outputs": [],
   "source": [
    "df[df.duplicated()]"
   ]
  },
  {
   "cell_type": "code",
   "execution_count": null,
   "id": "1deb7d85-b988-4b8b-8cc4-63a16c831edf",
   "metadata": {},
   "outputs": [],
   "source": [
    "df.duplicated().sum()"
   ]
  },
  {
   "cell_type": "code",
   "execution_count": null,
   "id": "ff9f914b-146b-4dcf-b4b1-98d19a9d7abc",
   "metadata": {},
   "outputs": [],
   "source": [
    "df.nunique()"
   ]
  },
  {
   "cell_type": "code",
   "execution_count": null,
   "id": "79428657-e2cc-4496-886b-7582b9094728",
   "metadata": {},
   "outputs": [],
   "source": [
    "df['Cloud Cover'].unique()"
   ]
  },
  {
   "cell_type": "code",
   "execution_count": null,
   "id": "0bce57ee-a3be-431d-96c9-4daa34552c74",
   "metadata": {},
   "outputs": [],
   "source": [
    "df['Cloud Cover'] = df['Cloud Cover'].replace('partly cloudy',0)\n",
    "df['Cloud Cover'] = df['Cloud Cover'].replace('clear',1)\n",
    "df['Cloud Cover'] = df['Cloud Cover'].replace('overcast',2)\n",
    "df['Cloud Cover'] = df['Cloud Cover'].replace('cloudy',3)"
   ]
  },
  {
   "cell_type": "code",
   "execution_count": null,
   "id": "0304e27c-b7af-4e1c-abb7-f610d471e805",
   "metadata": {},
   "outputs": [],
   "source": [
    "df['Season'].unique()"
   ]
  },
  {
   "cell_type": "code",
   "execution_count": null,
   "id": "cbe03fb2-d820-48d8-a5d9-101146d94fba",
   "metadata": {},
   "outputs": [],
   "source": [
    "df['Season'] = df['Season'].replace('Winter', 0)\n",
    "df['Season'] = df['Season'].replace('Spring', 1)\n",
    "df['Season'] = df['Season'].replace('Summer', 2)\n",
    "df['Season'] = df['Season'].replace('Autumn', 3)"
   ]
  },
  {
   "cell_type": "code",
   "execution_count": null,
   "id": "bcef306b-c2b8-44c3-b43b-d60194856832",
   "metadata": {},
   "outputs": [],
   "source": [
    "df['Location'].unique()"
   ]
  },
  {
   "cell_type": "code",
   "execution_count": null,
   "id": "a82d4959-508e-4883-9eb2-0f9238c52a23",
   "metadata": {},
   "outputs": [],
   "source": [
    "df['Location'] = df['Location'].replace('inland', 0)\n",
    "df['Location'] = df['Location'].replace('mountain', 1)\n",
    "df['Location'] = df['Location'].replace('coastal', 2)"
   ]
  },
  {
   "cell_type": "code",
   "execution_count": null,
   "id": "594d8932-85fe-4c7b-bebd-9fc59a3e0562",
   "metadata": {},
   "outputs": [],
   "source": [
    "df['Weather Type'].unique()"
   ]
  },
  {
   "cell_type": "code",
   "execution_count": null,
   "id": "468ec4c9-5ab7-40ff-b39e-1fec6ee6c2e6",
   "metadata": {},
   "outputs": [],
   "source": [
    "df['Weather Type'] = df['Weather Type'].replace('Rainy', 0)\n",
    "df['Weather Type'] = df['Weather Type'].replace('Cloudy', 1)\n",
    "df['Weather Type'] = df['Weather Type'].replace('Sunny', 2)\n",
    "df['Weather Type'] = df['Weather Type'].replace('Snowy', 3)"
   ]
  },
  {
   "cell_type": "code",
   "execution_count": null,
   "id": "c213b79b-a396-4cd1-b844-31d3fa228044",
   "metadata": {},
   "outputs": [],
   "source": [
    "df.head(10)"
   ]
  },
  {
   "cell_type": "code",
   "execution_count": null,
   "id": "ae40d35c-087b-4ab9-ad09-b704082f217f",
   "metadata": {},
   "outputs": [],
   "source": [
    "plt.figure(figsize=(15,12))\n",
    "sns.boxplot(data=df)"
   ]
  },
  {
   "cell_type": "code",
   "execution_count": null,
   "id": "2cd7c268-0493-470e-af35-4121e5bf5104",
   "metadata": {},
   "outputs": [],
   "source": [
    "numeric_columns = ['Temperature', 'Humidity', 'Wind Speed', 'Precipitation (%)', 'Atmospheric Pressure', 'UV Index', 'Visibility (km)']\n",
    "\n",
    "# Compute Z-scores for these columns\n",
    "z_scores = stats.zscore(df[numeric_columns])\n",
    "\n",
    "# Create a boolean mask for data points where the absolute Z-score is less than 3 (indicating no outlier)\n",
    "z_score_mask = (abs(z_scores) < 3).all(axis=1)\n",
    "\n",
    "# Apply the mask to keep only rows without outliers\n",
    "data_cleaned = df[z_score_mask]\n",
    "\n",
    "# Check the cleaned dataset\n",
    "data_cleaned.describe()\n",
    "\n",
    "# Save the cleaned dataset (optional)\n",
    "data_cleaned.to_csv('cleaned_dataset.csv', index=False)"
   ]
  },
  {
   "cell_type": "code",
   "execution_count": null,
   "id": "24d62a70-e305-4a59-98fa-29467c3dd364",
   "metadata": {},
   "outputs": [],
   "source": [
    "data = pd.read_csv('cleaned_dataset.csv')"
   ]
  },
  {
   "cell_type": "code",
   "execution_count": null,
   "id": "46313838-9393-4df6-9c73-9bac68df9df6",
   "metadata": {},
   "outputs": [],
   "source": [
    "plt.figure(figsize=(15,12))\n",
    "sns.boxplot(data=data)"
   ]
  },
  {
   "cell_type": "code",
   "execution_count": null,
   "id": "e8b6b911-e6d7-4bee-a83f-32fa94754b67",
   "metadata": {},
   "outputs": [],
   "source": [
    "numerical_columns = ['Temperature', 'Humidity', 'Wind Speed', 'Precipitation (%)', 'Atmospheric Pressure', 'UV Index', 'Visibility (km)']\n",
    "\n",
    "for column in numerical_columns:\n",
    "    plt.figure(figsize=(8, 4))\n",
    "    sns.histplot(data[column], kde=False, bins=10, color='skyblue')\n",
    "    plt.title(f'Histogram of {column}')\n",
    "    plt.xlabel(column)\n",
    "    plt.ylabel('Frequency')\n",
    "    plt.show()"
   ]
  },
  {
   "cell_type": "code",
   "execution_count": null,
   "id": "0f173e14-dfa1-44ad-9abc-84153f6304d0",
   "metadata": {},
   "outputs": [],
   "source": [
    "plt.figure(figsize=(10, 8))\n",
    "sns.heatmap(data.corr(numeric_only = True), annot=True, cmap='coolwarm', fmt='.3f', linewidths=0.5)\n",
    "plt.title('Correlation Matrix')"
   ]
  },
  {
   "cell_type": "code",
   "execution_count": null,
   "id": "6764ee09-2257-4cea-9e01-26f5940e8a80",
   "metadata": {},
   "outputs": [],
   "source": []
  }
 ],
 "metadata": {
  "kernelspec": {
   "display_name": "Python 3 (ipykernel)",
   "language": "python",
   "name": "python3"
  },
  "language_info": {
   "codemirror_mode": {
    "name": "ipython",
    "version": 3
   },
   "file_extension": ".py",
   "mimetype": "text/x-python",
   "name": "python",
   "nbconvert_exporter": "python",
   "pygments_lexer": "ipython3",
   "version": "3.12.4"
  }
 },
 "nbformat": 4,
 "nbformat_minor": 5
}
